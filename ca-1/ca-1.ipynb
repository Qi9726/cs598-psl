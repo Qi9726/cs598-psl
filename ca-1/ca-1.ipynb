{
 "cells": [
  {
   "cell_type": "markdown",
   "id": "5a670ba3",
   "metadata": {},
   "source": [
    "# Coding Assignment - 1"
   ]
  },
  {
   "cell_type": "code",
   "execution_count": 1,
   "id": "eced740a",
   "metadata": {},
   "outputs": [],
   "source": [
    "import math\n",
    "import numpy as np\n",
    "import matplotlib.pyplot as plt\n",
    "from sklearn.neighbors import KNeighborsClassifier as knn\n",
    "from sklearn import linear_model as lm\n",
    "\n",
    "np.random.seed(100)\n"
   ]
  },
  {
   "cell_type": "markdown",
   "id": "925709c6",
   "metadata": {},
   "source": [
    "## Part 1: Generate Data"
   ]
  },
  {
   "cell_type": "markdown",
   "id": "3e099d1a",
   "metadata": {},
   "source": [
    "Generate the 20 centers, 10 for each group."
   ]
  },
  {
   "cell_type": "markdown",
   "id": "697f0bf4",
   "metadata": {},
   "source": [
    "<span style=\"color:red\">To Be Done : </span> Make the Centers created based on the formula provided in the problem statement"
   ]
  },
  {
   "cell_type": "code",
   "execution_count": 2,
   "id": "8579258c",
   "metadata": {},
   "outputs": [],
   "source": [
    "csize = 5      \n",
    "p = 2      \n",
    "s = 1;      # sd for generating the centers within each class                    \n",
    "m1 = np.random.normal(size = (csize, p)) * s \\\n",
    "     + np.concatenate([np.array([[1, 0]] * csize)])\n",
    "m0 = np.random.normal(size = (csize, p)) * s \\\n",
    "     + np.concatenate([np.array([[0, 1]] * csize)])"
   ]
  },
  {
   "cell_type": "markdown",
   "id": "957e300b",
   "metadata": {},
   "source": [
    "Generate training & test data."
   ]
  },
  {
   "cell_type": "code",
   "execution_count": 3,
   "id": "c8bff64a",
   "metadata": {},
   "outputs": [],
   "source": [
    "n = 5\n",
    "# Randomly allocate the n samples for class 1  to the 10 clusters\n",
    "id1 = np.random.randint(csize, size = n)\n",
    "id0 = np.random.randint(csize, size = n)\n",
    "\n",
    "# sd for generating data  \n",
    "s = np.sqrt(float(1)/5) \n",
    "\n",
    "traindata = np.random.normal(size = (2 * n, p)) * s \\\n",
    "            + np.concatenate([m1[id1,:], m0[id0,:]])\n",
    "ytrain = np.concatenate(([1]*n, [0]*n))"
   ]
  },
  {
   "cell_type": "code",
   "execution_count": 11,
   "id": "69f00177",
   "metadata": {},
   "outputs": [],
   "source": [
    "N = 5\n",
    "# Randomly allocate the n samples for class 1  to the 10 clusters\n",
    "id1 = np.random.randint(csize, size = N)\n",
    "id0 = np.random.randint(csize, size = N)\n",
    "\n",
    "# sd for generating data  \n",
    "s = np.sqrt(float(1)/5) \n",
    "\n",
    "testdata = np.random.normal(size = (2 * N, p)) * s \\\n",
    "            + np.concatenate([m1[id1,:], m0[id0,:]])\n",
    "ytest = np.concatenate(([1]*N, [0]*N))"
   ]
  },
  {
   "cell_type": "markdown",
   "id": "f704e71f",
   "metadata": {},
   "source": [
    "Visulization"
   ]
  },
  {
   "cell_type": "code",
   "execution_count": 4,
   "id": "3fc281aa",
   "metadata": {},
   "outputs": [
    {
     "data": {
      "image/png": "[encoded data removed]",
      "text/plain": [
       "<Figure size 640x480 with 1 Axes>"
      ]
     },
     "metadata": {},
     "output_type": "display_data"
    }
   ],
   "source": [
    "plt.scatter(traindata[:n, 0], traindata[:n, 1], c = \"blue\", alpha=0.2, label='Class 1')\n",
    "plt.scatter(traindata[n:, 0], traindata[n:, 1], c = \"red\", alpha=0.2, label='Class 0')\n",
    "\n",
    "plt.scatter(m1[:,0], m1[:,1], marker = '+', s = 100, c = \"blue\")\n",
    "plt.scatter(m0[:,0], m0[:,1], marker = '+', s = 100, c = \"red\")\n",
    "\n",
    "plt.legend()\n",
    "plt.show()"
   ]
  },
  {
   "cell_type": "code",
   "execution_count": 5,
   "id": "193b2104",
   "metadata": {},
   "outputs": [],
   "source": [
    "id1 = np.random.randint(csize, size = n)\n"
   ]
  },
  {
   "cell_type": "code",
   "execution_count": 6,
   "id": "49f3efdf",
   "metadata": {},
   "outputs": [
    {
     "data": {
      "text/plain": [
       "array([0, 2, 2, 3, 4])"
      ]
     },
     "execution_count": 6,
     "metadata": {},
     "output_type": "execute_result"
    }
   ],
   "source": [
    "id1"
   ]
  },
  {
   "cell_type": "code",
   "execution_count": 7,
   "id": "272358fe",
   "metadata": {},
   "outputs": [
    {
     "data": {
      "text/plain": [
       "array([-0.74976547,  1.3426804 ,  2.1530358 ])"
      ]
     },
     "execution_count": 7,
     "metadata": {},
     "output_type": "execute_result"
    }
   ],
   "source": [
    "np.random.seed(100)\n",
    "\n",
    "np.random.normal(loc=[1,1,1], scale=1)"
   ]
  },
  {
   "cell_type": "markdown",
   "id": "ccc2a159",
   "metadata": {},
   "source": [
    "## Part 2: kNN"
   ]
  },
  {
   "cell_type": "code",
   "execution_count": 27,
   "id": "d8c1cf4f",
   "metadata": {},
   "outputs": [],
   "source": [
    "#myk = [151, 101, 69, 45, 31, 21, 11, 7, 5, 3, 1]\n",
    "myk = [5, 3, 1]\n",
    "\n",
    "train_err_knn = []\n",
    "test_err_knn = []\n",
    "\n",
    "for j in myk:\n",
    "    myknn = knn(n_neighbors = j)\n",
    "    myknn.fit(traindata, ytrain)\n",
    "    train_err_knn.append(1 - myknn.score(traindata, ytrain))\n",
    "    test_err_knn.append(1- myknn.score(testdata, ytest))"
   ]
  },
  {
   "cell_type": "code",
   "execution_count": 28,
   "id": "a9e6dc25",
   "metadata": {},
   "outputs": [
    {
     "data": {
      "text/plain": [
       "array([[0.2, 0.2],\n",
       "       [0.2, 0.1],\n",
       "       [0. , 0.1]])"
      ]
     },
     "execution_count": 28,
     "metadata": {},
     "output_type": "execute_result"
    }
   ],
   "source": [
    "np.column_stack((train_err_knn, test_err_knn))"
   ]
  },
  {
   "cell_type": "code",
   "execution_count": 14,
   "id": "d7f0fba7",
   "metadata": {},
   "outputs": [
    {
     "data": {
      "text/plain": [
       "array([[ 0., 11.],\n",
       "       [ 3.,  8.],\n",
       "       [ 3., 20.]])"
      ]
     },
     "execution_count": 14,
     "metadata": {},
     "output_type": "execute_result"
    }
   ],
   "source": [
    "def eucledian_distance(A, B):\n",
    "    M = A.shape[0]\n",
    "    N = B.shape[0]\n",
    "    \n",
    "    A_dots = (A*A).sum(axis=1).reshape((M,1))*np.ones(shape=(1,N))\n",
    "    B_dots = (B*B).sum(axis=1)*np.ones(shape=(M,1))\n",
    "    \n",
    "    D_squared =  A_dots + B_dots -2*A.dot(B.T)\n",
    "    \n",
    "    return D_squared\n",
    "    \n",
    "A = np.array([[1,2,3],[2,3,4],[0,1,2]])\n",
    "B = np.array([[1,2,3],[4,3,2]])\n",
    "eucledian_distance(A, B)"
   ]
  },
  {
   "cell_type": "code",
   "execution_count": 211,
   "id": "74eeee03",
   "metadata": {},
   "outputs": [
    {
     "name": "stdout",
     "output_type": "stream",
     "text": [
      "[[ 0.          7.79720064 14.08708589 13.4836944   6.58678086  8.03670171\n",
      "  12.68671473  3.25993921  5.34674809  2.7042745 ]\n",
      " [ 7.79720064  0.          3.28321767  2.70521531  4.82380229  0.05487771\n",
      "   4.06129921  1.9168206   3.35239786  2.04053748]\n",
      " [14.08708589  3.28321767  0.          0.0304441   2.65386937  4.10498979\n",
      "  14.13929432  9.08249113 12.97100509  8.91201601]\n",
      " [13.4836944   2.70521531  0.0304441   0.          2.73309098  3.44638513\n",
      "  12.86152822  8.22802376 11.85764749  8.09930693]\n",
      " [ 6.58678086  4.82380229  2.65386937  2.73309098  0.          5.83703665\n",
      "  16.89168591  7.15884731 11.69618633  6.54976792]\n",
      " [ 8.03670171  0.05487771  4.10498979  3.44638513  5.83703665  0.\n",
      "   3.17416273  1.69448821  2.77672153  1.88324145]\n",
      " [12.68671473  4.06129921 14.13929432 12.86152822 16.89168591  3.17416273\n",
      "   0.          3.25638526  1.6620786   3.91009165]\n",
      " [ 3.25993921  1.9168206   9.08249113  8.22802376  7.15884731  1.69448821\n",
      "   3.25638526  0.          0.56887925  0.02989707]\n",
      " [ 5.34674809  3.35239786 12.97100509 11.85764749 11.69618633  2.77672153\n",
      "   1.6620786   0.56887925  0.          0.81027327]\n",
      " [ 2.7042745   2.04053748  8.91201601  8.09930693  6.54976792  1.88324145\n",
      "   3.91009165  0.02989707  0.81027327  0.        ]]\n",
      "[7.79720064 3.28321767 8.91201601 8.09930693 6.54976792 3.17416273\n",
      " 4.06129921 3.25638526 3.35239786 2.7042745 ]\n",
      "[[0.         7.79720064        nan        nan 6.58678086        nan\n",
      "         nan 3.25993921 5.34674809 2.7042745 ]\n",
      " [       nan 0.         3.28321767 2.70521531        nan 0.05487771\n",
      "         nan 1.9168206         nan 2.04053748]\n",
      " [       nan 3.28321767 0.         0.0304441  2.65386937 4.10498979\n",
      "         nan        nan        nan 8.91201601]\n",
      " [       nan 2.70521531 0.0304441  0.         2.73309098 3.44638513\n",
      "         nan        nan        nan 8.09930693]\n",
      " [       nan 4.82380229 2.65386937 2.73309098 0.         5.83703665\n",
      "         nan        nan        nan 6.54976792]\n",
      " [       nan 0.05487771        nan        nan        nan 0.\n",
      "  3.17416273 1.69448821 2.77672153 1.88324145]\n",
      " [       nan 4.06129921        nan        nan        nan 3.17416273\n",
      "  0.         3.25638526 1.6620786  3.91009165]\n",
      " [       nan 1.9168206         nan        nan        nan 1.69448821\n",
      "  3.25638526 0.         0.56887925 0.02989707]\n",
      " [       nan 3.35239786        nan        nan        nan 2.77672153\n",
      "  1.6620786  0.56887925 0.         0.81027327]\n",
      " [2.7042745  2.04053748        nan        nan        nan 1.88324145\n",
      "         nan 0.02989707 0.81027327 0.        ]]\n",
      "[[0 9 7 8 4 1 2 3 5 6]\n",
      " [1 5 7 9 3 2 0 4 6 8]\n",
      " [2 3 4 1 5 9 0 6 7 8]\n",
      " [3 2 1 4 5 9 0 6 7 8]\n",
      " [4 2 3 1 5 9 0 6 7 8]\n",
      " [5 1 7 9 8 6 0 2 3 4]\n",
      " [6 8 5 7 9 1 0 2 3 4]\n",
      " [7 9 8 5 1 6 0 2 3 4]\n",
      " [8 7 9 6 5 1 0 2 3 4]\n",
      " [9 7 8 5 1 0 2 3 4 6]]\n",
      "---------------------\n",
      "[[1 0 0 0 1 1 1 1 0 0]\n",
      " [1 0 0 0 1 1 1 1 0 0]\n",
      " [1 1 1 1 0 0 1 0 0 0]\n",
      " [1 1 1 1 0 0 1 0 0 0]\n",
      " [1 1 1 1 0 0 1 0 0 0]\n",
      " [0 1 0 0 0 0 1 1 1 1]\n",
      " [0 0 0 0 0 1 1 1 1 1]\n",
      " [0 0 0 0 1 0 1 1 1 1]\n",
      " [0 0 0 0 0 1 1 1 1 1]\n",
      " [0 0 0 0 1 1 1 1 1 0]]\n",
      "[[0.         0.                nan        nan 6.58678086        nan\n",
      "         nan 3.25993921 0.         0.        ]\n",
      " [       nan 0.         0.         0.                nan 0.05487771\n",
      "         nan 1.9168206         nan 0.        ]\n",
      " [       nan 3.28321767 0.         0.0304441  0.         0.\n",
      "         nan        nan        nan 0.        ]\n",
      " [       nan 2.70521531 0.0304441  0.         0.         0.\n",
      "         nan        nan        nan 0.        ]\n",
      " [       nan 4.82380229 2.65386937 2.73309098 0.         0.\n",
      "         nan        nan        nan 0.        ]\n",
      " [       nan 0.05487771        nan        nan        nan 0.\n",
      "  3.17416273 1.69448821 2.77672153 1.88324145]\n",
      " [       nan 0.                nan        nan        nan 3.17416273\n",
      "  0.         3.25638526 1.6620786  3.91009165]\n",
      " [       nan 0.                nan        nan        nan 0.\n",
      "  3.25638526 0.         0.56887925 0.02989707]\n",
      " [       nan 0.                nan        nan        nan 2.77672153\n",
      "  1.6620786  0.56887925 0.         0.81027327]\n",
      " [0.         0.                nan        nan        nan 1.88324145\n",
      "         nan 0.02989707 0.81027327 0.        ]]\n",
      "---------------------\n",
      "[3 4 4 4 3 1 2 3 2 2]\n",
      "[2 2 2 2 3 5 4 3 4 3]\n",
      "[0 0 0 0 0 1 1 0 1 1]\n"
     ]
    }
   ],
   "source": [
    "np.set_printoptions(threshold=np.inf)\n",
    "\n",
    "def custom_knn(train_data, test_data, ytrain, k):\n",
    "    distance_matrix = eucledian_distance(train_data, test_data)\n",
    "    print(distance_matrix)\n",
    "    \n",
    "    distance_matrix_bk = distance_matrix\n",
    "    kth_distance = np.sort(distance_matrix)[:, k]\n",
    "    print(kth_distance)\n",
    "    distance_matrix = np.transpose(np.where((distance_matrix <= kth_distance), np.transpose(distance_matrix), np.nan))    \n",
    "    print(distance_matrix)\n",
    "    \n",
    "    top_k_indices = np.argsort(distance_matrix, axis=1)\n",
    "    print(top_k_indices)\n",
    "    #top_k_indices = top_k_indices[:, 1:]\n",
    "    #top_k_indices = top_k_indices[:, :k]\n",
    "    #print(top_k_indices[:, k-1])\n",
    "    \n",
    "    \n",
    "    #print(np.transpose(np.where((distance_matrix <= kth_distance), np.transpose(distance_matrix), None)))\n",
    "    #print(np.transpose(np.where((distance_matrix > kth_distance), np.transpose(distance_matrix), distance_matrix)))\n",
    "    \n",
    "    #print((np.where(distance_matrix <= np.transpose(kth_distance), distance_matrix, None)))\n",
    "    #print(np.transpose(np.where((distance_matrix > 0), np.transpose(distance_matrix), None)))\n",
    "    #print(ytrain.shape)\n",
    "    \n",
    "    ytrain_pred = ytrain[top_k_indices]\n",
    "    print(\"---------------------\")\n",
    "    print(ytrain_pred)\n",
    "    print(ytrain_pred * distance_matrix)\n",
    "    ytrain_pred = ytrain_pred * distance_matrix\n",
    "    ytrain_pred = ytrain_pred[:, 1:]\n",
    "    print(\"---------------------\")\n",
    "    \n",
    "    ytrain_pred_0_count = np.count_nonzero(ytrain_pred == 0, axis = 1)\n",
    "    ytrain_pred_1_count = np.count_nonzero(ytrain_pred > 0, axis = 1)\n",
    "    \n",
    "    print(ytrain_pred_0_count)\n",
    "    print(ytrain_pred_1_count)\n",
    "    \n",
    "    min_threshold = int(np.ceil(k/2))\n",
    "    \n",
    "    ytrain_pred = ytrain_pred_1_count > ytrain_pred_0_count\n",
    "    ytrain_pred = ytrain_pred.astype(int)\n",
    "    \n",
    "    print(ytrain_pred)\n",
    "    return ytrain_pred\n",
    "\n",
    "# custom_knn(traindata, traindata, ytrain, 1)\n",
    "# custom_knn(traindata, traindata, ytrain, 3)\n",
    "# custom_knn(traindata, traindata, ytrain, 5)\n",
    "# custom_knn(traindata, traindata, ytrain, 7)\n",
    "custom_knn(traindata, traindata, ytrain, 5)\n",
    "\n",
    "a = np.array([[0, 0, 0], [1,1,1], [1,1,-1], [1,1,-1]])\n",
    "b = np.array([0, 1, 0, 1])\n",
    "#custom_knn(a, a, b, 2)\n"
   ]
  },
  {
   "cell_type": "code",
   "execution_count": 197,
   "id": "d3df379b",
   "metadata": {},
   "outputs": [
    {
     "data": {
      "text/plain": [
       "array([1, 2, 3, 0])"
      ]
     },
     "execution_count": 197,
     "metadata": {},
     "output_type": "execute_result"
    }
   ],
   "source": [
    "x = np.array([np.nan, 1, 2, 3])\n",
    "np.argsort(x)"
   ]
  },
  {
   "cell_type": "code",
   "execution_count": null,
   "id": "abbd3c2e",
   "metadata": {},
   "outputs": [],
   "source": [
    "a = np.array([9, 4, 4, 3, 3, 9, 0, 4, 6, 0])\n",
    "np.argpartition(a, -4)[-4:]\n",
    "print(a)\n",
    "print(np.argsort(a))\n",
    "print(np.argsort(a, axis=0))\n",
    "#print(np.argsort(a, axis=1))"
   ]
  },
  {
   "cell_type": "code",
   "execution_count": null,
   "id": "e51a8c73",
   "metadata": {},
   "outputs": [],
   "source": [
    "x = np.array([[3, 1, 2], [10, 1, 100]])\n",
    "print(x)\n",
    "print(np.argsort(x))\n",
    "#print(x[np.argsort(x)])"
   ]
  },
  {
   "cell_type": "code",
   "execution_count": null,
   "id": "55000223",
   "metadata": {},
   "outputs": [],
   "source": [
    "x = np.array([0., 7.79720064, 14.08708589, 13.4836944,   6.58678086,  8.03670171,12.68671473,  3.25993921,  5.34674809,  2.7042745 ])\n",
    "print(x)\n",
    "print(np.argsort(x))\n",
    "print(x[np.argsort(x)])"
   ]
  },
  {
   "cell_type": "code",
   "execution_count": 134,
   "id": "7d4939bf",
   "metadata": {},
   "outputs": [
    {
     "name": "stdout",
     "output_type": "stream",
     "text": [
      "[[  3   1   2]\n",
      " [ 10   2 100]\n",
      " [  0   0   0]]\n",
      "[[ True False  True]\n",
      " [ True  True  True]\n",
      " [False False False]]\n"
     ]
    }
   ],
   "source": [
    "x = np.array([[3, 1, 2], [10, 2, 100], [0, 0,0]])\n",
    "print(x)\n",
    "y = np.array([0,1,0])\n",
    "\n",
    "print(x>y)"
   ]
  },
  {
   "cell_type": "code",
   "execution_count": 67,
   "id": "a8836584",
   "metadata": {},
   "outputs": [
    {
     "name": "stdout",
     "output_type": "stream",
     "text": [
      "[[[ 1000    20]\n",
      "  [  300    40]\n",
      "  [  500    60]]\n",
      "\n",
      " [[10000   200]\n",
      "  [   30    41]\n",
      "  [   50     6]]]\n",
      "---------------------\n",
      "[[[1 0]\n",
      "  [1 0]\n",
      "  [1 0]]\n",
      "\n",
      " [[1 0]\n",
      "  [0 1]\n",
      "  [1 0]]]\n",
      "---------------------\n",
      "[[[ 1000    20]\n",
      "  [   30    40]\n",
      "  [   50     6]]\n",
      "\n",
      " [[10000   200]\n",
      "  [  300    41]\n",
      "  [  500    60]]]\n",
      "---------------------\n",
      "[[[  300    20]\n",
      "  [  500    40]\n",
      "  [ 1000    60]]\n",
      "\n",
      " [[   30     6]\n",
      "  [   50    41]\n",
      "  [10000   200]]]\n",
      "---------------------\n",
      "[[[   20  1000]\n",
      "  [   40   300]\n",
      "  [   60   500]]\n",
      "\n",
      " [[  200 10000]\n",
      "  [   30    41]\n",
      "  [    6    50]]]\n",
      "---------------------\n"
     ]
    }
   ],
   "source": [
    "x = np.array([\n",
    "       [\n",
    "              [1000,20],\n",
    "              [300,40],\n",
    "              [500,60]\n",
    "\n",
    "       ],\n",
    "       [\n",
    "              [10000,200],\n",
    "              [30,41],\n",
    "              [50,6]\n",
    "\n",
    "       ],\n",
    "]\n",
    ")\n",
    "\n",
    "print(x)\n",
    "print(\"---------------------\")\n",
    "print(np.argsort(x, axis=2))\n",
    "print(\"---------------------\")\n",
    "print(np.sort(x, axis=0))\n",
    "print(\"---------------------\")\n",
    "print(np.sort(x, axis=1))\n",
    "print(\"---------------------\")\n",
    "print(np.sort(x, axis=2))\n",
    "print(\"---------------------\")\n"
   ]
  },
  {
   "cell_type": "code",
   "execution_count": null,
   "id": "a65a4efb",
   "metadata": {},
   "outputs": [],
   "source": []
  }
 ],
 "metadata": {
  "kernelspec": {
   "display_name": "Python 3 (ipykernel)",
   "language": "python",
   "name": "python3"
  },
  "language_info": {
   "codemirror_mode": {
    "name": "ipython",
    "version": 3
   },
   "file_extension": ".py",
   "mimetype": "text/x-python",
   "name": "python",
   "nbconvert_exporter": "python",
   "pygments_lexer": "ipython3",
   "version": "3.11.4"
  }
 },
 "nbformat": 4,
 "nbformat_minor": 5
}
